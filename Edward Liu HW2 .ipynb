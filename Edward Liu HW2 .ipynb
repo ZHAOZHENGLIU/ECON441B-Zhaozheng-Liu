{
 "cells": [
  {
   "cell_type": "markdown",
   "id": "07c34ec6",
   "metadata": {},
   "source": [
    "# 1.) Pull in Data and Convert ot Monthly"
   ]
  },
  {
   "cell_type": "code",
   "execution_count": 1,
   "id": "b48f7d57",
   "metadata": {},
   "outputs": [],
   "source": [
    "import yfinance as yf\n",
    "import pandas as pd\n",
    "import numpy as np\n",
    "import matplotlib.pyplot as plt"
   ]
  },
  {
   "cell_type": "code",
   "execution_count": 2,
   "id": "4fa973aa",
   "metadata": {},
   "outputs": [
    {
     "name": "stdout",
     "output_type": "stream",
     "text": [
      "[*********************100%%**********************]  1 of 1 completed\n"
     ]
    }
   ],
   "source": [
    "apple_data = yf.download('AAPL')\n",
    "df = apple_data.resample(\"M\").last()[[\"Adj Close\"]]"
   ]
  },
  {
   "cell_type": "markdown",
   "id": "54bbfd02",
   "metadata": {},
   "source": [
    "# 2.) Create columns. \n",
    "  - Current Stock Price, Difference in stock price, Whether it went up or down over the next month,  option premium"
   ]
  },
  {
   "cell_type": "code",
   "execution_count": 13,
   "id": "1f21f202",
   "metadata": {},
   "outputs": [
    {
     "data": {
      "text/html": [
       "<div>\n",
       "<style scoped>\n",
       "    .dataframe tbody tr th:only-of-type {\n",
       "        vertical-align: middle;\n",
       "    }\n",
       "\n",
       "    .dataframe tbody tr th {\n",
       "        vertical-align: top;\n",
       "    }\n",
       "\n",
       "    .dataframe thead th {\n",
       "        text-align: right;\n",
       "    }\n",
       "</style>\n",
       "<table border=\"1\" class=\"dataframe\">\n",
       "  <thead>\n",
       "    <tr style=\"text-align: right;\">\n",
       "      <th></th>\n",
       "      <th>Adj Close</th>\n",
       "      <th>diff</th>\n",
       "      <th>Diff</th>\n",
       "      <th>Target</th>\n",
       "      <th>Premium</th>\n",
       "    </tr>\n",
       "    <tr>\n",
       "      <th>Date</th>\n",
       "      <th></th>\n",
       "      <th></th>\n",
       "      <th></th>\n",
       "      <th></th>\n",
       "      <th></th>\n",
       "    </tr>\n",
       "  </thead>\n",
       "  <tbody>\n",
       "    <tr>\n",
       "      <th>1980-12-31</th>\n",
       "      <td>0.117887</td>\n",
       "      <td>-0.020296</td>\n",
       "      <td>-0.020296</td>\n",
       "      <td>-1.0</td>\n",
       "      <td>0.009431</td>\n",
       "    </tr>\n",
       "    <tr>\n",
       "      <th>1981-01-31</th>\n",
       "      <td>0.097591</td>\n",
       "      <td>-0.006045</td>\n",
       "      <td>-0.006045</td>\n",
       "      <td>-1.0</td>\n",
       "      <td>0.007807</td>\n",
       "    </tr>\n",
       "    <tr>\n",
       "      <th>1981-02-28</th>\n",
       "      <td>0.091546</td>\n",
       "      <td>-0.006909</td>\n",
       "      <td>-0.006909</td>\n",
       "      <td>-1.0</td>\n",
       "      <td>0.007324</td>\n",
       "    </tr>\n",
       "    <tr>\n",
       "      <th>1981-03-31</th>\n",
       "      <td>0.084637</td>\n",
       "      <td>0.013386</td>\n",
       "      <td>0.013386</td>\n",
       "      <td>1.0</td>\n",
       "      <td>0.006771</td>\n",
       "    </tr>\n",
       "    <tr>\n",
       "      <th>1981-04-30</th>\n",
       "      <td>0.098023</td>\n",
       "      <td>0.016409</td>\n",
       "      <td>0.016409</td>\n",
       "      <td>1.0</td>\n",
       "      <td>0.007842</td>\n",
       "    </tr>\n",
       "    <tr>\n",
       "      <th>...</th>\n",
       "      <td>...</td>\n",
       "      <td>...</td>\n",
       "      <td>...</td>\n",
       "      <td>...</td>\n",
       "      <td>...</td>\n",
       "    </tr>\n",
       "    <tr>\n",
       "      <th>2023-09-30</th>\n",
       "      <td>170.984741</td>\n",
       "      <td>-0.439423</td>\n",
       "      <td>-0.439423</td>\n",
       "      <td>-1.0</td>\n",
       "      <td>13.678779</td>\n",
       "    </tr>\n",
       "    <tr>\n",
       "      <th>2023-10-31</th>\n",
       "      <td>170.545319</td>\n",
       "      <td>19.404678</td>\n",
       "      <td>19.404678</td>\n",
       "      <td>1.0</td>\n",
       "      <td>13.643625</td>\n",
       "    </tr>\n",
       "    <tr>\n",
       "      <th>2023-11-30</th>\n",
       "      <td>189.949997</td>\n",
       "      <td>2.580002</td>\n",
       "      <td>2.580002</td>\n",
       "      <td>1.0</td>\n",
       "      <td>15.196000</td>\n",
       "    </tr>\n",
       "    <tr>\n",
       "      <th>2023-12-31</th>\n",
       "      <td>192.529999</td>\n",
       "      <td>-9.850006</td>\n",
       "      <td>-9.850006</td>\n",
       "      <td>-1.0</td>\n",
       "      <td>15.402400</td>\n",
       "    </tr>\n",
       "    <tr>\n",
       "      <th>2024-01-31</th>\n",
       "      <td>182.679993</td>\n",
       "      <td>NaN</td>\n",
       "      <td>NaN</td>\n",
       "      <td>NaN</td>\n",
       "      <td>14.614399</td>\n",
       "    </tr>\n",
       "  </tbody>\n",
       "</table>\n",
       "<p>518 rows × 5 columns</p>\n",
       "</div>"
      ],
      "text/plain": [
       "             Adj Close       diff       Diff  Target    Premium\n",
       "Date                                                           \n",
       "1980-12-31    0.117887  -0.020296  -0.020296    -1.0   0.009431\n",
       "1981-01-31    0.097591  -0.006045  -0.006045    -1.0   0.007807\n",
       "1981-02-28    0.091546  -0.006909  -0.006909    -1.0   0.007324\n",
       "1981-03-31    0.084637   0.013386   0.013386     1.0   0.006771\n",
       "1981-04-30    0.098023   0.016409   0.016409     1.0   0.007842\n",
       "...                ...        ...        ...     ...        ...\n",
       "2023-09-30  170.984741  -0.439423  -0.439423    -1.0  13.678779\n",
       "2023-10-31  170.545319  19.404678  19.404678     1.0  13.643625\n",
       "2023-11-30  189.949997   2.580002   2.580002     1.0  15.196000\n",
       "2023-12-31  192.529999  -9.850006  -9.850006    -1.0  15.402400\n",
       "2024-01-31  182.679993        NaN        NaN     NaN  14.614399\n",
       "\n",
       "[518 rows x 5 columns]"
      ]
     },
     "execution_count": 13,
     "metadata": {},
     "output_type": "execute_result"
    }
   ],
   "source": [
    "df\n",
    "\n",
    "#difference in stock price\n",
    "df['Diff']= df['Adj Close'].diff().shift(-1) #difference to the next period\n",
    "\n",
    "\n",
    "#target variable, whether went up or down\n",
    "df['Target']= np.sign(df['Diff'])\n",
    "\n",
    "#Option premium\n",
    "df['Premium']= .08 *df['Adj Close']\n",
    "\n",
    "df"
   ]
  },
  {
   "cell_type": "code",
   "execution_count": 14,
   "id": "558383d9",
   "metadata": {},
   "outputs": [
    {
     "data": {
      "text/html": [
       "<div>\n",
       "<style scoped>\n",
       "    .dataframe tbody tr th:only-of-type {\n",
       "        vertical-align: middle;\n",
       "    }\n",
       "\n",
       "    .dataframe tbody tr th {\n",
       "        vertical-align: top;\n",
       "    }\n",
       "\n",
       "    .dataframe thead th {\n",
       "        text-align: right;\n",
       "    }\n",
       "</style>\n",
       "<table border=\"1\" class=\"dataframe\">\n",
       "  <thead>\n",
       "    <tr style=\"text-align: right;\">\n",
       "      <th></th>\n",
       "      <th>Adj Close</th>\n",
       "      <th>diff</th>\n",
       "      <th>Diff</th>\n",
       "      <th>Target</th>\n",
       "      <th>Premium</th>\n",
       "    </tr>\n",
       "    <tr>\n",
       "      <th>Date</th>\n",
       "      <th></th>\n",
       "      <th></th>\n",
       "      <th></th>\n",
       "      <th></th>\n",
       "      <th></th>\n",
       "    </tr>\n",
       "  </thead>\n",
       "  <tbody>\n",
       "    <tr>\n",
       "      <th>1980-12-31</th>\n",
       "      <td>0.117887</td>\n",
       "      <td>-0.020296</td>\n",
       "      <td>-0.020296</td>\n",
       "      <td>-1.0</td>\n",
       "      <td>0.009431</td>\n",
       "    </tr>\n",
       "    <tr>\n",
       "      <th>1981-01-31</th>\n",
       "      <td>0.097591</td>\n",
       "      <td>-0.006045</td>\n",
       "      <td>-0.006045</td>\n",
       "      <td>-1.0</td>\n",
       "      <td>0.007807</td>\n",
       "    </tr>\n",
       "    <tr>\n",
       "      <th>1981-02-28</th>\n",
       "      <td>0.091546</td>\n",
       "      <td>-0.006909</td>\n",
       "      <td>-0.006909</td>\n",
       "      <td>-1.0</td>\n",
       "      <td>0.007324</td>\n",
       "    </tr>\n",
       "    <tr>\n",
       "      <th>1981-03-31</th>\n",
       "      <td>0.084637</td>\n",
       "      <td>0.013386</td>\n",
       "      <td>0.013386</td>\n",
       "      <td>1.0</td>\n",
       "      <td>0.006771</td>\n",
       "    </tr>\n",
       "    <tr>\n",
       "      <th>1981-04-30</th>\n",
       "      <td>0.098023</td>\n",
       "      <td>0.016409</td>\n",
       "      <td>0.016409</td>\n",
       "      <td>1.0</td>\n",
       "      <td>0.007842</td>\n",
       "    </tr>\n",
       "  </tbody>\n",
       "</table>\n",
       "</div>"
      ],
      "text/plain": [
       "            Adj Close      diff      Diff  Target   Premium\n",
       "Date                                                       \n",
       "1980-12-31   0.117887 -0.020296 -0.020296    -1.0  0.009431\n",
       "1981-01-31   0.097591 -0.006045 -0.006045    -1.0  0.007807\n",
       "1981-02-28   0.091546 -0.006909 -0.006909    -1.0  0.007324\n",
       "1981-03-31   0.084637  0.013386  0.013386     1.0  0.006771\n",
       "1981-04-30   0.098023  0.016409  0.016409     1.0  0.007842"
      ]
     },
     "execution_count": 14,
     "metadata": {},
     "output_type": "execute_result"
    }
   ],
   "source": [
    "df.head()"
   ]
  },
  {
   "cell_type": "markdown",
   "id": "c9987e25",
   "metadata": {},
   "source": [
    "# 3.) Pull in X data, normalized and build a LogReg on column 2"
   ]
  },
  {
   "cell_type": "code",
   "execution_count": 15,
   "id": "132b4471",
   "metadata": {},
   "outputs": [],
   "source": [
    "import numpy as np\n",
    "import pandas as pd\n",
    "from sklearn.model_selection import train_test_split\n",
    "from sklearn.linear_model import LogisticRegression\n",
    "from sklearn import metrics"
   ]
  },
  {
   "cell_type": "code",
   "execution_count": 16,
   "id": "b21f3c33",
   "metadata": {},
   "outputs": [],
   "source": [
    "X = pd.read_csv(\"Xdata.csv\", index_col=\"Date\", parse_dates=[\"Date\"])"
   ]
  },
  {
   "cell_type": "code",
   "execution_count": 24,
   "id": "7b38602e",
   "metadata": {},
   "outputs": [],
   "source": [
    "y = df.loc[:\"2023-09-30\",\"Target\"].copy()\n",
    "df = df.loc[:\"2023-09-30\",:].copy()"
   ]
  },
  {
   "cell_type": "code",
   "execution_count": 49,
   "id": "7ba88356",
   "metadata": {},
   "outputs": [
    {
     "data": {
      "text/plain": [
       "Date\n",
       "1980-12-31   -1.0\n",
       "1981-01-31   -1.0\n",
       "1981-02-28   -1.0\n",
       "1981-03-31    1.0\n",
       "1981-04-30    1.0\n",
       "             ... \n",
       "2023-05-31    1.0\n",
       "2023-06-30    1.0\n",
       "2023-07-31   -1.0\n",
       "2023-08-31   -1.0\n",
       "2023-09-30   -1.0\n",
       "Freq: M, Name: Target, Length: 514, dtype: float64"
      ]
     },
     "execution_count": 49,
     "metadata": {},
     "output_type": "execute_result"
    }
   ],
   "source": [
    "y"
   ]
  },
  {
   "cell_type": "code",
   "execution_count": 26,
   "id": "f3bc75a2",
   "metadata": {},
   "outputs": [],
   "source": [
    "logreg = LogisticRegression()\n",
    "\n",
    "logreg.fit(X, y)\n",
    "\n",
    "y_pred = logreg.predict(X)"
   ]
  },
  {
   "cell_type": "markdown",
   "id": "2c2c792d",
   "metadata": {},
   "source": [
    "# 4.) Add columns, prediction and profits."
   ]
  },
  {
   "cell_type": "code",
   "execution_count": 27,
   "id": "8009466a",
   "metadata": {},
   "outputs": [],
   "source": [
    "df['Predictions']= y_pred"
   ]
  },
  {
   "cell_type": "code",
   "execution_count": 46,
   "id": "1d41211f",
   "metadata": {},
   "outputs": [],
   "source": [
    "df['Profit'] = 0.\n",
    "#True Positives\n",
    "df.loc[(df['Predictions']==1) & (df['Target'] == 1), 'Profit'] = df['Premium']\n",
    "\n",
    "#False Positives\n",
    "df.loc[(df['Predictions']==1) & (df['Target'] == -1), 'Profit'] = 100 * df['Diff'] + df['Premium']\n"
   ]
  },
  {
   "cell_type": "code",
   "execution_count": 47,
   "id": "7c8a051f",
   "metadata": {},
   "outputs": [
    {
     "data": {
      "text/html": [
       "<div>\n",
       "<style scoped>\n",
       "    .dataframe tbody tr th:only-of-type {\n",
       "        vertical-align: middle;\n",
       "    }\n",
       "\n",
       "    .dataframe tbody tr th {\n",
       "        vertical-align: top;\n",
       "    }\n",
       "\n",
       "    .dataframe thead th {\n",
       "        text-align: right;\n",
       "    }\n",
       "</style>\n",
       "<table border=\"1\" class=\"dataframe\">\n",
       "  <thead>\n",
       "    <tr style=\"text-align: right;\">\n",
       "      <th></th>\n",
       "      <th>Adj Close</th>\n",
       "      <th>diff</th>\n",
       "      <th>Diff</th>\n",
       "      <th>Target</th>\n",
       "      <th>Premium</th>\n",
       "      <th>Predictions</th>\n",
       "      <th>Profit</th>\n",
       "    </tr>\n",
       "    <tr>\n",
       "      <th>Date</th>\n",
       "      <th></th>\n",
       "      <th></th>\n",
       "      <th></th>\n",
       "      <th></th>\n",
       "      <th></th>\n",
       "      <th></th>\n",
       "      <th></th>\n",
       "    </tr>\n",
       "  </thead>\n",
       "  <tbody>\n",
       "    <tr>\n",
       "      <th>1980-12-31</th>\n",
       "      <td>0.117887</td>\n",
       "      <td>-0.020296</td>\n",
       "      <td>-0.020296</td>\n",
       "      <td>-1.0</td>\n",
       "      <td>0.009431</td>\n",
       "      <td>-1.0</td>\n",
       "      <td>0.000000</td>\n",
       "    </tr>\n",
       "    <tr>\n",
       "      <th>1981-01-31</th>\n",
       "      <td>0.097591</td>\n",
       "      <td>-0.006045</td>\n",
       "      <td>-0.006045</td>\n",
       "      <td>-1.0</td>\n",
       "      <td>0.007807</td>\n",
       "      <td>-1.0</td>\n",
       "      <td>0.000000</td>\n",
       "    </tr>\n",
       "    <tr>\n",
       "      <th>1981-02-28</th>\n",
       "      <td>0.091546</td>\n",
       "      <td>-0.006909</td>\n",
       "      <td>-0.006909</td>\n",
       "      <td>-1.0</td>\n",
       "      <td>0.007324</td>\n",
       "      <td>-1.0</td>\n",
       "      <td>0.000000</td>\n",
       "    </tr>\n",
       "    <tr>\n",
       "      <th>1981-03-31</th>\n",
       "      <td>0.084637</td>\n",
       "      <td>0.013386</td>\n",
       "      <td>0.013386</td>\n",
       "      <td>1.0</td>\n",
       "      <td>0.006771</td>\n",
       "      <td>1.0</td>\n",
       "      <td>0.006771</td>\n",
       "    </tr>\n",
       "    <tr>\n",
       "      <th>1981-04-30</th>\n",
       "      <td>0.098023</td>\n",
       "      <td>0.016409</td>\n",
       "      <td>0.016409</td>\n",
       "      <td>1.0</td>\n",
       "      <td>0.007842</td>\n",
       "      <td>1.0</td>\n",
       "      <td>0.007842</td>\n",
       "    </tr>\n",
       "    <tr>\n",
       "      <th>...</th>\n",
       "      <td>...</td>\n",
       "      <td>...</td>\n",
       "      <td>...</td>\n",
       "      <td>...</td>\n",
       "      <td>...</td>\n",
       "      <td>...</td>\n",
       "      <td>...</td>\n",
       "    </tr>\n",
       "    <tr>\n",
       "      <th>2023-05-31</th>\n",
       "      <td>176.778061</td>\n",
       "      <td>16.675507</td>\n",
       "      <td>16.675507</td>\n",
       "      <td>1.0</td>\n",
       "      <td>14.142245</td>\n",
       "      <td>1.0</td>\n",
       "      <td>14.142245</td>\n",
       "    </tr>\n",
       "    <tr>\n",
       "      <th>2023-06-30</th>\n",
       "      <td>193.453568</td>\n",
       "      <td>2.473389</td>\n",
       "      <td>2.473389</td>\n",
       "      <td>1.0</td>\n",
       "      <td>15.476285</td>\n",
       "      <td>1.0</td>\n",
       "      <td>15.476285</td>\n",
       "    </tr>\n",
       "    <tr>\n",
       "      <th>2023-07-31</th>\n",
       "      <td>195.926956</td>\n",
       "      <td>-8.304138</td>\n",
       "      <td>-8.304138</td>\n",
       "      <td>-1.0</td>\n",
       "      <td>15.674156</td>\n",
       "      <td>-1.0</td>\n",
       "      <td>0.000000</td>\n",
       "    </tr>\n",
       "    <tr>\n",
       "      <th>2023-08-31</th>\n",
       "      <td>187.622818</td>\n",
       "      <td>-16.638077</td>\n",
       "      <td>-16.638077</td>\n",
       "      <td>-1.0</td>\n",
       "      <td>15.009825</td>\n",
       "      <td>-1.0</td>\n",
       "      <td>0.000000</td>\n",
       "    </tr>\n",
       "    <tr>\n",
       "      <th>2023-09-30</th>\n",
       "      <td>170.984741</td>\n",
       "      <td>-0.439423</td>\n",
       "      <td>-0.439423</td>\n",
       "      <td>-1.0</td>\n",
       "      <td>13.678779</td>\n",
       "      <td>-1.0</td>\n",
       "      <td>0.000000</td>\n",
       "    </tr>\n",
       "  </tbody>\n",
       "</table>\n",
       "<p>514 rows × 7 columns</p>\n",
       "</div>"
      ],
      "text/plain": [
       "             Adj Close       diff       Diff  Target    Premium  Predictions  \\\n",
       "Date                                                                           \n",
       "1980-12-31    0.117887  -0.020296  -0.020296    -1.0   0.009431         -1.0   \n",
       "1981-01-31    0.097591  -0.006045  -0.006045    -1.0   0.007807         -1.0   \n",
       "1981-02-28    0.091546  -0.006909  -0.006909    -1.0   0.007324         -1.0   \n",
       "1981-03-31    0.084637   0.013386   0.013386     1.0   0.006771          1.0   \n",
       "1981-04-30    0.098023   0.016409   0.016409     1.0   0.007842          1.0   \n",
       "...                ...        ...        ...     ...        ...          ...   \n",
       "2023-05-31  176.778061  16.675507  16.675507     1.0  14.142245          1.0   \n",
       "2023-06-30  193.453568   2.473389   2.473389     1.0  15.476285          1.0   \n",
       "2023-07-31  195.926956  -8.304138  -8.304138    -1.0  15.674156         -1.0   \n",
       "2023-08-31  187.622818 -16.638077 -16.638077    -1.0  15.009825         -1.0   \n",
       "2023-09-30  170.984741  -0.439423  -0.439423    -1.0  13.678779         -1.0   \n",
       "\n",
       "               Profit  \n",
       "Date                   \n",
       "1980-12-31   0.000000  \n",
       "1981-01-31   0.000000  \n",
       "1981-02-28   0.000000  \n",
       "1981-03-31   0.006771  \n",
       "1981-04-30   0.007842  \n",
       "...               ...  \n",
       "2023-05-31  14.142245  \n",
       "2023-06-30  15.476285  \n",
       "2023-07-31   0.000000  \n",
       "2023-08-31   0.000000  \n",
       "2023-09-30   0.000000  \n",
       "\n",
       "[514 rows x 7 columns]"
      ]
     },
     "execution_count": 47,
     "metadata": {},
     "output_type": "execute_result"
    }
   ],
   "source": [
    "df"
   ]
  },
  {
   "cell_type": "markdown",
   "id": "e379d80c",
   "metadata": {},
   "source": [
    "# 5.) Plot profits over time"
   ]
  },
  {
   "cell_type": "code",
   "execution_count": 48,
   "id": "bc16f4dc",
   "metadata": {},
   "outputs": [
    {
     "data": {
      "image/png": "[encoded data removed]",
      "text/plain": [
       "<Figure size 640x480 with 1 Axes>"
      ]
     },
     "metadata": {},
     "output_type": "display_data"
    }
   ],
   "source": [
    "plt.plot(np.cumsum(df['Profit']))\n",
    "plt.show()"
   ]
  },
  {
   "cell_type": "code",
   "execution_count": null,
   "id": "99340635",
   "metadata": {},
   "outputs": [],
   "source": [
    "# detriment has been augmented by the covid, as it shows the horrible impact from covid into the lost\n",
    "\n",
    "#train for data set"
   ]
  },
  {
   "cell_type": "markdown",
   "id": "8345f997",
   "metadata": {},
   "source": [
    "5.5.) Mr. Luis venture designate for people who pay for the ticket to acquires the right of joining a chat room, as being able to connect with KOL, or the \"star\" in particular small groups. It provides opportunity for people with common interest to join the chat. For us, our skills from MQE can leverge the data gathered from the webstie StarArena or from content creator could be sorted and trained through model for the purpose of specific enteracting. The data collected are used for future decision making, and we can perform logistic regression to filter which is the targeted interest for the web user."
   ]
  },
  {
   "cell_type": "markdown",
   "id": "5c970b3f",
   "metadata": {},
   "source": [
    "# 6.) Create a loop that stores total profits over time"
   ]
  },
  {
   "cell_type": "code",
   "execution_count": null,
   "id": "abab021c",
   "metadata": {},
   "outputs": [],
   "source": []
  },
  {
   "cell_type": "markdown",
   "id": "30f8738c",
   "metadata": {},
   "source": [
    "# 7.) What is the optimal threshold and plot the total profits for this model."
   ]
  },
  {
   "cell_type": "code",
   "execution_count": null,
   "id": "aba0f592",
   "metadata": {},
   "outputs": [],
   "source": []
  }
 ],
 "metadata": {
  "kernelspec": {
   "display_name": "Python 3 (ipykernel)",
   "language": "python",
   "name": "python3"
  },
  "language_info": {
   "codemirror_mode": {
    "name": "ipython",
    "version": 3
   },
   "file_extension": ".py",
   "mimetype": "text/x-python",
   "name": "python",
   "nbconvert_exporter": "python",
   "pygments_lexer": "ipython3",
   "version": "3.11.4"
  }
 },
 "nbformat": 4,
 "nbformat_minor": 5
}
